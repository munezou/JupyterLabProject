{
 "cells": [
  {
   "cell_type": "code",
   "execution_count": 1,
   "metadata": {},
   "outputs": [],
   "source": [
    "import tensorflow as tf\n",
    "import os\n",
    "import sys"
   ]
  },
  {
   "cell_type": "markdown",
   "metadata": {},
   "source": [
    "## Converting Saved Model to TFLite"
   ]
  },
  {
   "cell_type": "code",
   "execution_count": 3,
   "metadata": {},
   "outputs": [
    {
     "name": "stdout",
     "output_type": "stream",
     "text": [
      "WARNING:tensorflow:From D:\\Anaconda3\\lib\\site-packages\\tensorflow_core\\python\\ops\\resource_variable_ops.py:1786: calling BaseResourceVariable.__init__ (from tensorflow.python.ops.resource_variable_ops) with constraint is deprecated and will be removed in a future version.\n",
      "Instructions for updating:\n",
      "If using Keras pass *_constraint arguments to layers.\n",
      "INFO:tensorflow:Assets written to: D:\\Anaconda3\\lib\\site-packages\\tmp\\test_saved_model\\assets\n"
     ]
    }
   ],
   "source": [
    "# Construct a basic model.\n",
    "root = tf.train.Checkpoint()\n",
    "root.v1 = tf.Variable(3.)\n",
    "root.v2 = tf.Variable(2.)\n",
    "root.f = tf.function(lambda x: root.v1 * root.v2 * x)\n",
    "\n",
    "# Save the model.\n",
    "PROJECT_ROOT_DIR = os.path.dirname(os.path.abspath(sys.argv[0]))\n",
    "export_dir = os.path.join(PROJECT_ROOT_DIR, 'tmp', 'test_saved_model')\n",
    "input_data = tf.constant(1., shape=[1, 1])\n",
    "to_save = root.f.get_concrete_function(input_data)\n",
    "tf.saved_model.save(root, export_dir, to_save)\n",
    "\n",
    "# Convert the model.\n",
    "converter = tf.lite.TFLiteConverter.from_saved_model(export_dir)\n",
    "tflite_model = converter.convert()\n"
   ]
  },
  {
   "cell_type": "markdown",
   "metadata": {},
   "source": [
    "## Converting tf.keras model to TFLite"
   ]
  },
  {
   "cell_type": "code",
   "execution_count": 4,
   "metadata": {},
   "outputs": [
    {
     "name": "stdout",
     "output_type": "stream",
     "text": [
      "Train on 6 samples\n",
      "Epoch 1/50\n",
      "6/6 [==============================] - 1s 247ms/sample - loss: 42.1411\n",
      "Epoch 2/50\n",
      "6/6 [==============================] - 0s 27ms/sample - loss: 33.5181\n",
      "Epoch 3/50\n",
      "6/6 [==============================] - 0s 14ms/sample - loss: 26.7265\n",
      "Epoch 4/50\n",
      "6/6 [==============================] - 0s 22ms/sample - loss: 21.3758\n",
      "Epoch 5/50\n",
      "6/6 [==============================] - 0s 22ms/sample - loss: 17.1590\n",
      "Epoch 6/50\n",
      "6/6 [==============================] - 0s 26ms/sample - loss: 13.8344\n",
      "Epoch 7/50\n",
      "6/6 [==============================] - 0s 22ms/sample - loss: 11.2119\n",
      "Epoch 8/50\n",
      "6/6 [==============================] - 0s 26ms/sample - loss: 9.1420\n",
      "Epoch 9/50\n",
      "6/6 [==============================] - 0s 22ms/sample - loss: 7.5068\n",
      "Epoch 10/50\n",
      "6/6 [==============================] - 0s 23ms/sample - loss: 6.2139\n",
      "Epoch 11/50\n",
      "6/6 [==============================] - 0s 27ms/sample - loss: 5.1904\n",
      "Epoch 12/50\n",
      "6/6 [==============================] - 0s 22ms/sample - loss: 4.3789\n",
      "Epoch 13/50\n",
      "6/6 [==============================] - 0s 20ms/sample - loss: 3.7344\n",
      "Epoch 14/50\n",
      "6/6 [==============================] - 0s 24ms/sample - loss: 3.2214\n",
      "Epoch 15/50\n",
      "6/6 [==============================] - 0s 23ms/sample - loss: 2.8120\n",
      "Epoch 16/50\n",
      "6/6 [==============================] - 0s 20ms/sample - loss: 2.4842\n",
      "Epoch 17/50\n",
      "6/6 [==============================] - 0s 28ms/sample - loss: 2.2207\n",
      "Epoch 18/50\n",
      "6/6 [==============================] - 0s 35ms/sample - loss: 2.0079\n",
      "Epoch 19/50\n",
      "6/6 [==============================] - 0s 22ms/sample - loss: 1.8352\n",
      "Epoch 20/50\n",
      "6/6 [==============================] - 0s 23ms/sample - loss: 1.6940\n",
      "Epoch 21/50\n",
      "6/6 [==============================] - 0s 22ms/sample - loss: 1.5778\n",
      "Epoch 22/50\n",
      "6/6 [==============================] - 0s 20ms/sample - loss: 1.4814\n",
      "Epoch 23/50\n",
      "6/6 [==============================] - 0s 22ms/sample - loss: 1.4006\n",
      "Epoch 24/50\n",
      "6/6 [==============================] - 0s 14ms/sample - loss: 1.3322\n",
      "Epoch 25/50\n",
      "6/6 [==============================] - 0s 18ms/sample - loss: 1.2736\n",
      "Epoch 26/50\n",
      "6/6 [==============================] - 0s 16ms/sample - loss: 1.2229\n",
      "Epoch 27/50\n",
      "6/6 [==============================] - 0s 25ms/sample - loss: 1.1785\n",
      "Epoch 28/50\n",
      "6/6 [==============================] - 0s 19ms/sample - loss: 1.1391\n",
      "Epoch 29/50\n",
      "6/6 [==============================] - 0s 21ms/sample - loss: 1.1037\n",
      "Epoch 30/50\n",
      "6/6 [==============================] - 0s 11ms/sample - loss: 1.0717\n",
      "Epoch 31/50\n",
      "6/6 [==============================] - 0s 21ms/sample - loss: 1.0423\n",
      "Epoch 32/50\n",
      "6/6 [==============================] - 0s 22ms/sample - loss: 1.0150\n",
      "Epoch 33/50\n",
      "6/6 [==============================] - 0s 20ms/sample - loss: 0.9896\n",
      "Epoch 34/50\n",
      "6/6 [==============================] - 0s 29ms/sample - loss: 0.9657\n",
      "Epoch 35/50\n",
      "6/6 [==============================] - 0s 28ms/sample - loss: 0.9430\n",
      "Epoch 36/50\n",
      "6/6 [==============================] - 0s 26ms/sample - loss: 0.9214\n",
      "Epoch 37/50\n",
      "6/6 [==============================] - 0s 19ms/sample - loss: 0.9007\n",
      "Epoch 38/50\n",
      "6/6 [==============================] - 0s 20ms/sample - loss: 0.8808\n",
      "Epoch 39/50\n",
      "6/6 [==============================] - 0s 23ms/sample - loss: 0.8617\n",
      "Epoch 40/50\n",
      "6/6 [==============================] - 0s 27ms/sample - loss: 0.8431\n",
      "Epoch 41/50\n",
      "6/6 [==============================] - 0s 25ms/sample - loss: 0.8251\n",
      "Epoch 42/50\n",
      "6/6 [==============================] - 0s 25ms/sample - loss: 0.8076\n",
      "Epoch 43/50\n",
      "6/6 [==============================] - 0s 22ms/sample - loss: 0.7906\n",
      "Epoch 44/50\n",
      "6/6 [==============================] - 0s 30ms/sample - loss: 0.7741\n",
      "Epoch 45/50\n",
      "6/6 [==============================] - 0s 19ms/sample - loss: 0.7579\n",
      "Epoch 46/50\n",
      "6/6 [==============================] - 0s 28ms/sample - loss: 0.7421\n",
      "Epoch 47/50\n",
      "6/6 [==============================] - 0s 19ms/sample - loss: 0.7267\n",
      "Epoch 48/50\n",
      "6/6 [==============================] - 0s 15ms/sample - loss: 0.7117\n",
      "Epoch 49/50\n",
      "6/6 [==============================] - 0s 13ms/sample - loss: 0.6970\n",
      "Epoch 50/50\n",
      "6/6 [==============================] - 0s 185us/sample - loss: 0.6826\n"
     ]
    }
   ],
   "source": [
    "# Create a simple Keras model.\n",
    "x = [-1, 0, 1, 2, 3, 4]\n",
    "y = [-3, -1, 1, 3, 5, 7]\n",
    "\n",
    "model = tf.keras.models.Sequential(\n",
    "    [tf.keras.layers.Dense(units=1, input_shape=[1])])\n",
    "model.compile(optimizer='sgd', loss='mean_squared_error')\n",
    "model.fit(x, y, epochs=50)\n",
    "\n",
    "# Convert the model.\n",
    "converter = tf.lite.TFLiteConverter.from_keras_model(model)\n",
    "tflite_model = converter.convert()"
   ]
  },
  {
   "cell_type": "markdown",
   "metadata": {},
   "source": [
    "## An example of converting a function to TFLite:"
   ]
  },
  {
   "cell_type": "code",
   "execution_count": 5,
   "metadata": {},
   "outputs": [],
   "source": [
    "# Construct a basic model.\n",
    "root = tf.train.Checkpoint()\n",
    "root.v1 = tf.Variable(3.)\n",
    "root.v2 = tf.Variable(2.)\n",
    "root.f = tf.function(lambda x: root.v1 * root.v2 * x)\n",
    "\n",
    "# Create the concrete function.\n",
    "input_data = tf.constant(1., shape=[1, 1])\n",
    "concrete_func = root.f.get_concrete_function(input_data)\n",
    "\n",
    "converter = tf.lite.TFLiteConverter.from_concrete_functions([concrete_func])\n",
    "tflite_model = converter.convert()"
   ]
  },
  {
   "cell_type": "code",
   "execution_count": null,
   "metadata": {},
   "outputs": [],
   "source": []
  }
 ],
 "metadata": {
  "kernelspec": {
   "display_name": "Python 3",
   "language": "python",
   "name": "python3"
  },
  "language_info": {
   "codemirror_mode": {
    "name": "ipython",
    "version": 3
   },
   "file_extension": ".py",
   "mimetype": "text/x-python",
   "name": "python",
   "nbconvert_exporter": "python",
   "pygments_lexer": "ipython3",
   "version": "3.7.9"
  }
 },
 "nbformat": 4,
 "nbformat_minor": 4
}
