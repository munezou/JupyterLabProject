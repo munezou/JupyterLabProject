{
 "cells": [
  {
   "cell_type": "markdown",
   "metadata": {},
   "source": [
    "Example to show creation of tf.data.Dataset using csv"
   ]
  },
  {
   "cell_type": "code",
   "execution_count": 1,
   "metadata": {},
   "outputs": [],
   "source": [
    "import pandas as pd\n",
    "import tensorflow as tf"
   ]
  },
  {
   "cell_type": "markdown",
   "metadata": {},
   "source": [
    "Read a csv file having three columns. We will name them to 'square_ft', 'house_type', and 'price'"
   ]
  },
  {
   "cell_type": "code",
   "execution_count": 2,
   "metadata": {},
   "outputs": [],
   "source": [
    "csv_file = \"./curated_data/train.csv\"\n",
    "csv_columns = ['square_ft', 'house_type', 'price']"
   ]
  },
  {
   "cell_type": "code",
   "execution_count": 3,
   "metadata": {},
   "outputs": [],
   "source": [
    "dataset = tf.data.experimental.make_csv_dataset(csv_file, column_names=csv_columns, batch_size=8)"
   ]
  },
  {
   "cell_type": "code",
   "execution_count": 4,
   "metadata": {},
   "outputs": [
    {
     "data": {
      "text/plain": [
       "<PrefetchDataset shapes: OrderedDict([(square_ft, (8,)), (house_type, (8,)), (price, (8,))]), types: OrderedDict([(square_ft, tf.int32), (house_type, tf.string), (price, tf.float32)])>"
      ]
     },
     "execution_count": 4,
     "metadata": {},
     "output_type": "execute_result"
    }
   ],
   "source": [
    "dataset"
   ]
  },
  {
   "cell_type": "code",
   "execution_count": 5,
   "metadata": {},
   "outputs": [
    {
     "name": "stdout",
     "output_type": "stream",
     "text": [
      "OrderedDict([('square_ft', <tf.Tensor: shape=(8,), dtype=int32, numpy=array([1200, 2700, 2700, 2200, 1700, 1500, 1500, 2000])>), ('house_type', <tf.Tensor: shape=(8,), dtype=string, numpy=\n",
      "array([b' apt', b' apt', b' house', b' apt', b' house', b' apt',\n",
      "       b' house', b' house'], dtype=object)>), ('price', <tf.Tensor: shape=(8,), dtype=float32, numpy=array([0.6 , 1.35, 2.7 , 1.1 , 1.7 , 0.75, 1.5 , 2.  ], dtype=float32)>)])\n",
      "OrderedDict([('square_ft', <tf.Tensor: shape=(8,), dtype=int32, numpy=array([1700, 2200, 1000, 1200, 2000, 1200, 2000, 1500])>), ('house_type', <tf.Tensor: shape=(8,), dtype=string, numpy=\n",
      "array([b' apt', b' house', b' house', b' house', b' apt', b' apt',\n",
      "       b' apt', b' apt'], dtype=object)>), ('price', <tf.Tensor: shape=(8,), dtype=float32, numpy=array([0.85, 2.2 , 1.  , 1.2 , 1.  , 0.6 , 1.  , 0.75], dtype=float32)>)])\n",
      "OrderedDict([('square_ft', <tf.Tensor: shape=(8,), dtype=int32, numpy=array([2200, 2700, 2000, 1000, 1200, 2200, 1700, 1700])>), ('house_type', <tf.Tensor: shape=(8,), dtype=string, numpy=\n",
      "array([b' apt', b' apt', b' house', b' house', b' house', b' house',\n",
      "       b' apt', b' house'], dtype=object)>), ('price', <tf.Tensor: shape=(8,), dtype=float32, numpy=array([1.1 , 1.35, 2.  , 1.  , 1.2 , 2.2 , 0.85, 1.7 ], dtype=float32)>)])\n",
      "OrderedDict([('square_ft', <tf.Tensor: shape=(8,), dtype=int32, numpy=array([1500, 2700, 1200, 2000, 2700, 1000, 1500, 1200])>), ('house_type', <tf.Tensor: shape=(8,), dtype=string, numpy=\n",
      "array([b' house', b' house', b' apt', b' house', b' house', b' house',\n",
      "       b' apt', b' house'], dtype=object)>), ('price', <tf.Tensor: shape=(8,), dtype=float32, numpy=array([1.5 , 2.7 , 0.6 , 2.  , 2.7 , 1.  , 0.75, 1.2 ], dtype=float32)>)])\n"
     ]
    }
   ],
   "source": [
    "for data in dataset.take(4):\n",
    "    print(data)"
   ]
  },
  {
   "cell_type": "code",
   "execution_count": null,
   "metadata": {},
   "outputs": [],
   "source": []
  }
 ],
 "metadata": {
  "kernelspec": {
   "display_name": "Python 3",
   "language": "python",
   "name": "python3"
  },
  "language_info": {
   "codemirror_mode": {
    "name": "ipython",
    "version": 3
   },
   "file_extension": ".py",
   "mimetype": "text/x-python",
   "name": "python",
   "nbconvert_exporter": "python",
   "pygments_lexer": "ipython3",
   "version": "3.7.9"
  }
 },
 "nbformat": 4,
 "nbformat_minor": 4
}
