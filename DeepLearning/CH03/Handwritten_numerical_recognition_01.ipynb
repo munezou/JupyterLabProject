{
 "cells": [
  {
   "cell_type": "code",
   "execution_count": 3,
   "metadata": {},
   "outputs": [
    {
     "name": "stdout",
     "output_type": "stream",
     "text": [
      "labe =  3\n",
      "Shape of image =  (784,)\n",
      "Shape of image after deform =  (28, 28)\n"
     ]
    }
   ],
   "source": [
    "import sys, os\n",
    "''' Settings for importing files in parent directory. '''\n",
    "sys.path.append(os.pardir) \n",
    "import numpy as np\n",
    "from dataset.mnist import load_mnist\n",
    "from PIL import Image\n",
    "\n",
    "\n",
    "def img_show(img):\n",
    "    pil_img = Image.fromarray(np.uint8(img))\n",
    "    pil_img.show()\n",
    "    \n",
    "def get_data():\n",
    "    (x_train, t_train), (x_test, t_test) = load_mnist(flatten=True, normalize=False)\n",
    "    return x_train, t_train, x_test, t_test\n",
    "\n",
    "def init_network():\n",
    "    with open(\"sample_weight.pkl\", 'rb') as f:\n",
    "        network = pickle.load(f)\n",
    "        \n",
    "    return network\n",
    "\n",
    "x_train, t_train, x_test, t_test = get_data()\n",
    "\n",
    "img = x_train[10]\n",
    "label = t_train[10]\n",
    "\n",
    "print(\"labe = \", label)\n",
    "\n",
    "print(\"Shape of image = \", img.shape)\n",
    "\n",
    "''' Deform the shape to the original image size. '''\n",
    "img = img.reshape(28, 28) \n",
    "\n",
    "print(\"Shape of image after deform = \", img.shape) \n",
    "\n",
    "img_show(img)"
   ]
  },
  {
   "cell_type": "code",
   "execution_count": null,
   "metadata": {
    "collapsed": true
   },
   "outputs": [],
   "source": []
  }
 ],
 "metadata": {
  "kernelspec": {
   "display_name": "Python 3",
   "language": "python",
   "name": "python3"
  },
  "language_info": {
   "codemirror_mode": {
    "name": "ipython",
    "version": 3
   },
   "file_extension": ".py",
   "mimetype": "text/x-python",
   "name": "python",
   "nbconvert_exporter": "python",
   "pygments_lexer": "ipython3",
   "version": "3.6.5"
  }
 },
 "nbformat": 4,
 "nbformat_minor": 2
}
