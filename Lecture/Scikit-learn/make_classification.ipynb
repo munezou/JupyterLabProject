{
 "cells": [
  {
   "cell_type": "code",
   "execution_count": 2,
   "metadata": {},
   "outputs": [],
   "source": [
    "'''\n",
    "-------------------------------------------------------------------------------\n",
    "How to use make_classification\n",
    "-------------------------------------------------------------------------------\n",
    "'''\n",
    "import numpy as np\n",
    "from sklearn.datasets import make_classification\n",
    "from sklearn.model_selection import train_test_split\n",
    "\n",
    "from sklearn.linear_model import LogisticRegression\n",
    "from sklearn.ensemble import RandomForestClassifier\n",
    "from sklearn.neighbors import KNeighborsClassifier\n",
    "from sklearn.metrics import roc_auc_score\n",
    "\n",
    "# Create sample data.\n",
    "# 1000 samples、5(infomative) + 2(redundant) + 13(independent) =  20 feature のデータを生成\n",
    "dat = make_classification(n_samples=1000, n_features=20, n_informative=5, n_redundant=2, n_classes=2, n_clusters_per_class=10)"
   ]
  },
  {
   "cell_type": "code",
   "execution_count": 6,
   "metadata": {},
   "outputs": [],
   "source": [
    "X = dat[0]\n",
    "y = dat[1]"
   ]
  },
  {
   "cell_type": "code",
   "execution_count": 12,
   "metadata": {},
   "outputs": [
    {
     "data": {
      "text/plain": [
       "numpy.ndarray"
      ]
     },
     "execution_count": 12,
     "metadata": {},
     "output_type": "execute_result"
    }
   ],
   "source": [
    "type(X)\n",
    "type(y)"
   ]
  },
  {
   "cell_type": "code",
   "execution_count": 8,
   "metadata": {},
   "outputs": [
    {
     "name": "stdout",
     "output_type": "stream",
     "text": [
      "X.shape() = (1000, 20)\n",
      "y.shape() = (1000,)\n"
     ]
    }
   ],
   "source": [
    "print('X.shape() = {0}'.format(X.shape))\n",
    "print('y.shape() = {0}'.format(y.shape))"
   ]
  },
  {
   "cell_type": "code",
   "execution_count": 14,
   "metadata": {},
   "outputs": [],
   "source": [
    "Xpd = pd.DataFrame(X)\n",
    "ypd = pd.DataFrame(y)"
   ]
  },
  {
   "cell_type": "code",
   "execution_count": 17,
   "metadata": {},
   "outputs": [
    {
     "data": {
      "text/html": [
       "<div>\n",
       "<style scoped>\n",
       "    .dataframe tbody tr th:only-of-type {\n",
       "        vertical-align: middle;\n",
       "    }\n",
       "\n",
       "    .dataframe tbody tr th {\n",
       "        vertical-align: top;\n",
       "    }\n",
       "\n",
       "    .dataframe thead th {\n",
       "        text-align: right;\n",
       "    }\n",
       "</style>\n",
       "<table border=\"1\" class=\"dataframe\">\n",
       "  <thead>\n",
       "    <tr style=\"text-align: right;\">\n",
       "      <th></th>\n",
       "      <th>0</th>\n",
       "      <th>1</th>\n",
       "      <th>2</th>\n",
       "      <th>3</th>\n",
       "      <th>4</th>\n",
       "      <th>5</th>\n",
       "      <th>6</th>\n",
       "      <th>7</th>\n",
       "      <th>8</th>\n",
       "      <th>9</th>\n",
       "      <th>10</th>\n",
       "      <th>11</th>\n",
       "      <th>12</th>\n",
       "      <th>13</th>\n",
       "      <th>14</th>\n",
       "      <th>15</th>\n",
       "      <th>16</th>\n",
       "      <th>17</th>\n",
       "      <th>18</th>\n",
       "      <th>19</th>\n",
       "    </tr>\n",
       "  </thead>\n",
       "  <tbody>\n",
       "    <tr>\n",
       "      <th>0</th>\n",
       "      <td>0.951486</td>\n",
       "      <td>-0.702161</td>\n",
       "      <td>-0.441860</td>\n",
       "      <td>0.556436</td>\n",
       "      <td>2.000739</td>\n",
       "      <td>2.131793</td>\n",
       "      <td>-0.027917</td>\n",
       "      <td>-0.397515</td>\n",
       "      <td>0.270489</td>\n",
       "      <td>-1.569478</td>\n",
       "      <td>1.621841</td>\n",
       "      <td>-1.367073</td>\n",
       "      <td>0.936050</td>\n",
       "      <td>0.609209</td>\n",
       "      <td>-0.128122</td>\n",
       "      <td>-0.334984</td>\n",
       "      <td>0.371500</td>\n",
       "      <td>0.509598</td>\n",
       "      <td>0.760893</td>\n",
       "      <td>-0.815680</td>\n",
       "    </tr>\n",
       "    <tr>\n",
       "      <th>1</th>\n",
       "      <td>1.290957</td>\n",
       "      <td>-1.348297</td>\n",
       "      <td>0.951239</td>\n",
       "      <td>-1.952246</td>\n",
       "      <td>-3.608421</td>\n",
       "      <td>1.394465</td>\n",
       "      <td>-0.263281</td>\n",
       "      <td>1.625678</td>\n",
       "      <td>2.399167</td>\n",
       "      <td>0.584175</td>\n",
       "      <td>0.824747</td>\n",
       "      <td>1.181218</td>\n",
       "      <td>-0.509127</td>\n",
       "      <td>-1.846545</td>\n",
       "      <td>-0.295429</td>\n",
       "      <td>-0.139400</td>\n",
       "      <td>-0.099139</td>\n",
       "      <td>2.559746</td>\n",
       "      <td>0.633898</td>\n",
       "      <td>-0.661226</td>\n",
       "    </tr>\n",
       "    <tr>\n",
       "      <th>2</th>\n",
       "      <td>-0.148293</td>\n",
       "      <td>0.576455</td>\n",
       "      <td>-0.167908</td>\n",
       "      <td>2.297810</td>\n",
       "      <td>2.151801</td>\n",
       "      <td>1.386544</td>\n",
       "      <td>-0.155437</td>\n",
       "      <td>0.517382</td>\n",
       "      <td>1.822392</td>\n",
       "      <td>-0.014183</td>\n",
       "      <td>0.426967</td>\n",
       "      <td>1.376522</td>\n",
       "      <td>-0.445094</td>\n",
       "      <td>-0.366900</td>\n",
       "      <td>0.150423</td>\n",
       "      <td>-1.116874</td>\n",
       "      <td>0.487487</td>\n",
       "      <td>-0.080795</td>\n",
       "      <td>1.987194</td>\n",
       "      <td>0.177997</td>\n",
       "    </tr>\n",
       "    <tr>\n",
       "      <th>3</th>\n",
       "      <td>1.724952</td>\n",
       "      <td>-0.201801</td>\n",
       "      <td>-1.457830</td>\n",
       "      <td>-1.167764</td>\n",
       "      <td>1.172892</td>\n",
       "      <td>-0.148213</td>\n",
       "      <td>-0.403309</td>\n",
       "      <td>-0.189973</td>\n",
       "      <td>-1.652213</td>\n",
       "      <td>-0.258021</td>\n",
       "      <td>-0.047594</td>\n",
       "      <td>0.850570</td>\n",
       "      <td>-1.534329</td>\n",
       "      <td>0.914549</td>\n",
       "      <td>0.863253</td>\n",
       "      <td>2.103218</td>\n",
       "      <td>-0.616433</td>\n",
       "      <td>-0.353093</td>\n",
       "      <td>-0.274251</td>\n",
       "      <td>2.618777</td>\n",
       "    </tr>\n",
       "    <tr>\n",
       "      <th>4</th>\n",
       "      <td>-0.012539</td>\n",
       "      <td>-2.164365</td>\n",
       "      <td>-0.164862</td>\n",
       "      <td>-2.204677</td>\n",
       "      <td>0.401867</td>\n",
       "      <td>-0.756827</td>\n",
       "      <td>-0.989046</td>\n",
       "      <td>-1.409169</td>\n",
       "      <td>2.278978</td>\n",
       "      <td>0.536756</td>\n",
       "      <td>0.296081</td>\n",
       "      <td>2.437646</td>\n",
       "      <td>1.487303</td>\n",
       "      <td>-0.833515</td>\n",
       "      <td>-1.454347</td>\n",
       "      <td>1.935892</td>\n",
       "      <td>-2.454793</td>\n",
       "      <td>2.111927</td>\n",
       "      <td>2.543391</td>\n",
       "      <td>-0.033693</td>\n",
       "    </tr>\n",
       "  </tbody>\n",
       "</table>\n",
       "</div>"
      ],
      "text/plain": [
       "          0         1         2         3         4         5         6  \\\n",
       "0  0.951486 -0.702161 -0.441860  0.556436  2.000739  2.131793 -0.027917   \n",
       "1  1.290957 -1.348297  0.951239 -1.952246 -3.608421  1.394465 -0.263281   \n",
       "2 -0.148293  0.576455 -0.167908  2.297810  2.151801  1.386544 -0.155437   \n",
       "3  1.724952 -0.201801 -1.457830 -1.167764  1.172892 -0.148213 -0.403309   \n",
       "4 -0.012539 -2.164365 -0.164862 -2.204677  0.401867 -0.756827 -0.989046   \n",
       "\n",
       "          7         8         9        10        11        12        13  \\\n",
       "0 -0.397515  0.270489 -1.569478  1.621841 -1.367073  0.936050  0.609209   \n",
       "1  1.625678  2.399167  0.584175  0.824747  1.181218 -0.509127 -1.846545   \n",
       "2  0.517382  1.822392 -0.014183  0.426967  1.376522 -0.445094 -0.366900   \n",
       "3 -0.189973 -1.652213 -0.258021 -0.047594  0.850570 -1.534329  0.914549   \n",
       "4 -1.409169  2.278978  0.536756  0.296081  2.437646  1.487303 -0.833515   \n",
       "\n",
       "         14        15        16        17        18        19  \n",
       "0 -0.128122 -0.334984  0.371500  0.509598  0.760893 -0.815680  \n",
       "1 -0.295429 -0.139400 -0.099139  2.559746  0.633898 -0.661226  \n",
       "2  0.150423 -1.116874  0.487487 -0.080795  1.987194  0.177997  \n",
       "3  0.863253  2.103218 -0.616433 -0.353093 -0.274251  2.618777  \n",
       "4 -1.454347  1.935892 -2.454793  2.111927  2.543391 -0.033693  "
      ]
     },
     "execution_count": 17,
     "metadata": {},
     "output_type": "execute_result"
    }
   ],
   "source": [
    "Xpd.head()"
   ]
  },
  {
   "cell_type": "code",
   "execution_count": 18,
   "metadata": {},
   "outputs": [
    {
     "data": {
      "text/html": [
       "<div>\n",
       "<style scoped>\n",
       "    .dataframe tbody tr th:only-of-type {\n",
       "        vertical-align: middle;\n",
       "    }\n",
       "\n",
       "    .dataframe tbody tr th {\n",
       "        vertical-align: top;\n",
       "    }\n",
       "\n",
       "    .dataframe thead th {\n",
       "        text-align: right;\n",
       "    }\n",
       "</style>\n",
       "<table border=\"1\" class=\"dataframe\">\n",
       "  <thead>\n",
       "    <tr style=\"text-align: right;\">\n",
       "      <th></th>\n",
       "      <th>0</th>\n",
       "    </tr>\n",
       "  </thead>\n",
       "  <tbody>\n",
       "    <tr>\n",
       "      <th>0</th>\n",
       "      <td>0</td>\n",
       "    </tr>\n",
       "    <tr>\n",
       "      <th>1</th>\n",
       "      <td>1</td>\n",
       "    </tr>\n",
       "    <tr>\n",
       "      <th>2</th>\n",
       "      <td>0</td>\n",
       "    </tr>\n",
       "    <tr>\n",
       "      <th>3</th>\n",
       "      <td>0</td>\n",
       "    </tr>\n",
       "    <tr>\n",
       "      <th>4</th>\n",
       "      <td>0</td>\n",
       "    </tr>\n",
       "  </tbody>\n",
       "</table>\n",
       "</div>"
      ],
      "text/plain": [
       "   0\n",
       "0  0\n",
       "1  1\n",
       "2  0\n",
       "3  0\n",
       "4  0"
      ]
     },
     "execution_count": 18,
     "metadata": {},
     "output_type": "execute_result"
    }
   ],
   "source": [
    "ypd.head()"
   ]
  },
  {
   "cell_type": "code",
   "execution_count": 19,
   "metadata": {},
   "outputs": [
    {
     "name": "stdout",
     "output_type": "stream",
     "text": [
      "<class 'pandas.core.frame.DataFrame'>\n",
      "RangeIndex: 1000 entries, 0 to 999\n",
      "Data columns (total 20 columns):\n",
      "0     1000 non-null float64\n",
      "1     1000 non-null float64\n",
      "2     1000 non-null float64\n",
      "3     1000 non-null float64\n",
      "4     1000 non-null float64\n",
      "5     1000 non-null float64\n",
      "6     1000 non-null float64\n",
      "7     1000 non-null float64\n",
      "8     1000 non-null float64\n",
      "9     1000 non-null float64\n",
      "10    1000 non-null float64\n",
      "11    1000 non-null float64\n",
      "12    1000 non-null float64\n",
      "13    1000 non-null float64\n",
      "14    1000 non-null float64\n",
      "15    1000 non-null float64\n",
      "16    1000 non-null float64\n",
      "17    1000 non-null float64\n",
      "18    1000 non-null float64\n",
      "19    1000 non-null float64\n",
      "dtypes: float64(20)\n",
      "memory usage: 156.4 KB\n"
     ]
    }
   ],
   "source": [
    "Xpd.info()"
   ]
  },
  {
   "cell_type": "code",
   "execution_count": 20,
   "metadata": {},
   "outputs": [
    {
     "name": "stdout",
     "output_type": "stream",
     "text": [
      "<class 'pandas.core.frame.DataFrame'>\n",
      "RangeIndex: 1000 entries, 0 to 999\n",
      "Data columns (total 1 columns):\n",
      "0    1000 non-null int32\n",
      "dtypes: int32(1)\n",
      "memory usage: 4.0 KB\n"
     ]
    }
   ],
   "source": [
    "ypd.info()"
   ]
  },
  {
   "cell_type": "code",
   "execution_count": 21,
   "metadata": {},
   "outputs": [],
   "source": [
    "import matplotlib.pyplot as plt"
   ]
  },
  {
   "cell_type": "code",
   "execution_count": 23,
   "metadata": {},
   "outputs": [
    {
     "data": {
      "text/plain": [
       "array([[<matplotlib.axes._subplots.AxesSubplot object at 0x000001E1FF0D8108>,\n",
       "        <matplotlib.axes._subplots.AxesSubplot object at 0x000001E1FF991DC8>,\n",
       "        <matplotlib.axes._subplots.AxesSubplot object at 0x000001E1FFE92488>,\n",
       "        <matplotlib.axes._subplots.AxesSubplot object at 0x000001E1FFCB8E48>],\n",
       "       [<matplotlib.axes._subplots.AxesSubplot object at 0x000001E1FFAD2848>,\n",
       "        <matplotlib.axes._subplots.AxesSubplot object at 0x000001E1FFC83248>,\n",
       "        <matplotlib.axes._subplots.AxesSubplot object at 0x000001E1FF8C4388>,\n",
       "        <matplotlib.axes._subplots.AxesSubplot object at 0x000001E18063A288>],\n",
       "       [<matplotlib.axes._subplots.AxesSubplot object at 0x000001E18063FE48>,\n",
       "        <matplotlib.axes._subplots.AxesSubplot object at 0x000001E1FFFC6048>,\n",
       "        <matplotlib.axes._subplots.AxesSubplot object at 0x000001E1800155C8>,\n",
       "        <matplotlib.axes._subplots.AxesSubplot object at 0x000001E180052E48>],\n",
       "       [<matplotlib.axes._subplots.AxesSubplot object at 0x000001E180086748>,\n",
       "        <matplotlib.axes._subplots.AxesSubplot object at 0x000001E1800BF888>,\n",
       "        <matplotlib.axes._subplots.AxesSubplot object at 0x000001E1800F8988>,\n",
       "        <matplotlib.axes._subplots.AxesSubplot object at 0x000001E180131A88>],\n",
       "       [<matplotlib.axes._subplots.AxesSubplot object at 0x000001E18016ABC8>,\n",
       "        <matplotlib.axes._subplots.AxesSubplot object at 0x000001E1801A2C48>,\n",
       "        <matplotlib.axes._subplots.AxesSubplot object at 0x000001E1801DAD48>,\n",
       "        <matplotlib.axes._subplots.AxesSubplot object at 0x000001E180213E88>]],\n",
       "      dtype=object)"
      ]
     },
     "execution_count": 23,
     "metadata": {},
     "output_type": "execute_result"
    },
    {
     "data": {
      "image/png": "[encoded data removed]",
      "text/plain": [
       "<Figure size 1080x720 with 20 Axes>"
      ]
     },
     "metadata": {
      "needs_background": "light"
     },
     "output_type": "display_data"
    }
   ],
   "source": [
    "Xpd.hist(bins=50 ,figsize=(15, 10))"
   ]
  },
  {
   "cell_type": "code",
   "execution_count": 24,
   "metadata": {},
   "outputs": [],
   "source": [
    "# Separation of learning and test data\n",
    "# Use 80% for learning and 20% for testing.\n",
    "X_train, X_test, y_train, y_test = train_test_split(Xpd, ypd, test_size=0.2, random_state=123)"
   ]
  },
  {
   "cell_type": "code",
   "execution_count": 26,
   "metadata": {},
   "outputs": [
    {
     "name": "stderr",
     "output_type": "stream",
     "text": [
      "D:\\Anaconda3\\lib\\site-packages\\sklearn\\linear_model\\logistic.py:432: FutureWarning: Default solver will be changed to 'lbfgs' in 0.22. Specify a solver to silence this warning.\n",
      "  FutureWarning)\n",
      "D:\\Anaconda3\\lib\\site-packages\\sklearn\\utils\\validation.py:724: DataConversionWarning: A column-vector y was passed when a 1d array was expected. Please change the shape of y to (n_samples, ), for example using ravel().\n",
      "  y = column_or_1d(y, warn=True)\n"
     ]
    },
    {
     "data": {
      "text/plain": [
       "LogisticRegression(C=1.0, class_weight=None, dual=False, fit_intercept=True,\n",
       "                   intercept_scaling=1, l1_ratio=None, max_iter=100,\n",
       "                   multi_class='warn', n_jobs=None, penalty='l2',\n",
       "                   random_state=None, solver='warn', tol=0.0001, verbose=0,\n",
       "                   warm_start=False)"
      ]
     },
     "execution_count": 26,
     "metadata": {},
     "output_type": "execute_result"
    }
   ],
   "source": [
    "# 学習モデルの構築とパフォーマンス評価\n",
    "# ロジスティック回帰、ランダムフォレスト、KNNの３つのモデルを作成しそれぞれのAUCを計算\n",
    "clf = LogisticRegression()\n",
    "clf.fit(X_train, y_train)"
   ]
  },
  {
   "cell_type": "code",
   "execution_count": 28,
   "metadata": {},
   "outputs": [
    {
     "name": "stdout",
     "output_type": "stream",
     "text": [
      "LogisticRegression AUC = 0.6077777777777779\n"
     ]
    }
   ],
   "source": [
    "print('LogisticRegression AUC = {0}'.format(roc_auc_score(y_test, clf.predict_proba(X_test)[:,1])))"
   ]
  },
  {
   "cell_type": "code",
   "execution_count": 29,
   "metadata": {},
   "outputs": [
    {
     "name": "stderr",
     "output_type": "stream",
     "text": [
      "D:\\Anaconda3\\lib\\site-packages\\ipykernel_launcher.py:2: DataConversionWarning: A column-vector y was passed when a 1d array was expected. Please change the shape of y to (n_samples,), for example using ravel().\n",
      "  \n"
     ]
    },
    {
     "data": {
      "text/plain": [
       "RandomForestClassifier(bootstrap=True, class_weight=None, criterion='gini',\n",
       "                       max_depth=None, max_features='auto', max_leaf_nodes=None,\n",
       "                       min_impurity_decrease=0.0, min_impurity_split=None,\n",
       "                       min_samples_leaf=1, min_samples_split=2,\n",
       "                       min_weight_fraction_leaf=0.0, n_estimators=500,\n",
       "                       n_jobs=None, oob_score=False, random_state=123,\n",
       "                       verbose=0, warm_start=False)"
      ]
     },
     "execution_count": 29,
     "metadata": {},
     "output_type": "execute_result"
    }
   ],
   "source": [
    "clf = RandomForestClassifier(n_estimators=500, random_state=123)\n",
    "clf.fit(X_train, y_train)"
   ]
  },
  {
   "cell_type": "code",
   "execution_count": 30,
   "metadata": {},
   "outputs": [
    {
     "name": "stdout",
     "output_type": "stream",
     "text": [
      "RandomForestClassifier AUC = 0.6921717171717171\n"
     ]
    }
   ],
   "source": [
    "print('RandomForestClassifier AUC = {0}'.format(roc_auc_score(y_test, clf.predict_proba(X_test)[:,1])))"
   ]
  },
  {
   "cell_type": "code",
   "execution_count": 31,
   "metadata": {},
   "outputs": [
    {
     "name": "stderr",
     "output_type": "stream",
     "text": [
      "D:\\Anaconda3\\lib\\site-packages\\ipykernel_launcher.py:2: DataConversionWarning: A column-vector y was passed when a 1d array was expected. Please change the shape of y to (n_samples, ), for example using ravel().\n",
      "  \n"
     ]
    },
    {
     "data": {
      "text/plain": [
       "KNeighborsClassifier(algorithm='auto', leaf_size=30, metric='minkowski',\n",
       "                     metric_params=None, n_jobs=None, n_neighbors=10, p=2,\n",
       "                     weights='uniform')"
      ]
     },
     "execution_count": 31,
     "metadata": {},
     "output_type": "execute_result"
    }
   ],
   "source": [
    "clf = KNeighborsClassifier(n_neighbors=10)\n",
    "clf.fit(X_train, y_train)"
   ]
  },
  {
   "cell_type": "code",
   "execution_count": 32,
   "metadata": {},
   "outputs": [
    {
     "name": "stdout",
     "output_type": "stream",
     "text": [
      "KNeighborsClassifier AUC = 0.6933838383838383\n"
     ]
    }
   ],
   "source": [
    "print('KNeighborsClassifier AUC = {0}'.format(roc_auc_score(y_test, clf.predict_proba(X_test)[:,1])))"
   ]
  },
  {
   "cell_type": "code",
   "execution_count": null,
   "metadata": {},
   "outputs": [],
   "source": []
  }
 ],
 "metadata": {
  "kernelspec": {
   "display_name": "Python 3",
   "language": "python",
   "name": "python3"
  },
  "language_info": {
   "codemirror_mode": {
    "name": "ipython",
    "version": 3
   },
   "file_extension": ".py",
   "mimetype": "text/x-python",
   "name": "python",
   "nbconvert_exporter": "python",
   "pygments_lexer": "ipython3",
   "version": "3.7.4"
  }
 },
 "nbformat": 4,
 "nbformat_minor": 4
}
