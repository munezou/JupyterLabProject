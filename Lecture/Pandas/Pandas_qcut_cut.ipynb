{
 "cells": [
  {
   "cell_type": "code",
   "execution_count": 1,
   "metadata": {},
   "outputs": [],
   "source": [
    "'''\n",
    "-----------------------------------------------------------------------\n",
    "qcut\n",
    "-----------------------------------------------------------------------\n",
    "'''\n",
    "import pandas as pd"
   ]
  },
  {
   "cell_type": "code",
   "execution_count": 2,
   "metadata": {},
   "outputs": [],
   "source": [
    "sr = pd.Series([1,12,5,1,9,3,4,10,8])"
   ]
  },
  {
   "cell_type": "code",
   "execution_count": 3,
   "metadata": {},
   "outputs": [
    {
     "data": {
      "text/plain": [
       "0    (0.999, 3.667]\n",
       "1     (8.333, 12.0]\n",
       "2    (3.667, 8.333]\n",
       "3    (0.999, 3.667]\n",
       "4     (8.333, 12.0]\n",
       "5    (0.999, 3.667]\n",
       "6    (3.667, 8.333]\n",
       "7     (8.333, 12.0]\n",
       "8    (3.667, 8.333]\n",
       "dtype: category\n",
       "Categories (3, interval[float64]): [(0.999, 3.667] < (3.667, 8.333] < (8.333, 12.0]]"
      ]
     },
     "execution_count": 3,
     "metadata": {},
     "output_type": "execute_result"
    }
   ],
   "source": [
    "'''\n",
    "-------------------------------------------------------------------------------------\n",
    "The part displayed with ( means that the boundary value is not included as an area, \n",
    "and ] means that the boundary value is included as an area.\n",
    "------------------------------------------------------------------------------------\n",
    "'''\n",
    "pd.qcut(sr, 3)"
   ]
  },
  {
   "cell_type": "code",
   "execution_count": 4,
   "metadata": {},
   "outputs": [
    {
     "data": {
      "text/plain": [
       "(8.333, 12.0]     3\n",
       "(3.667, 8.333]    3\n",
       "(0.999, 3.667]    3\n",
       "dtype: int64"
      ]
     },
     "execution_count": 4,
     "metadata": {},
     "output_type": "execute_result"
    }
   ],
   "source": [
    "'''\n",
    "------------------------------------------------------------------------------------------------\n",
    "If you use value_counts function, you can display the number of cases for each divided section.\n",
    "-----------------------------------------------------------------------------------------------\n",
    "'''\n",
    "pd.qcut(sr, 3).value_counts()"
   ]
  },
  {
   "cell_type": "code",
   "execution_count": 5,
   "metadata": {},
   "outputs": [
    {
     "data": {
      "text/plain": [
       "0       low\n",
       "1      high\n",
       "2    middle\n",
       "3       low\n",
       "4      high\n",
       "5       low\n",
       "6    middle\n",
       "7      high\n",
       "8    middle\n",
       "dtype: category\n",
       "Categories (3, object): [low < middle < high]"
      ]
     },
     "execution_count": 5,
     "metadata": {},
     "output_type": "execute_result"
    }
   ],
   "source": [
    "'''\n",
    "------------------------------------------------------------------------------------------------\n",
    "Since the values are classified into three categories, try displaying them with the labels 'low', 'middle', and 'high' respectively.\n",
    "------------------------------------------------------------------------------------------------\n",
    "'''\n",
    "pd.qcut(sr, 3, labels=['low','middle','high'])"
   ]
  },
  {
   "cell_type": "code",
   "execution_count": 6,
   "metadata": {},
   "outputs": [
    {
     "data": {
      "text/plain": [
       "0    0\n",
       "1    2\n",
       "2    1\n",
       "3    0\n",
       "4    2\n",
       "5    0\n",
       "6    1\n",
       "7    2\n",
       "8    1\n",
       "dtype: int64"
      ]
     },
     "execution_count": 6,
     "metadata": {},
     "output_type": "execute_result"
    }
   ],
   "source": [
    "'''\n",
    "----------------------------------------------------------------------------------------------\n",
    "f you want to hide the label, set labels = False to display only the number of the division from the bottom.\n",
    "--------------------------------------------------------------------------------------------\n",
    "'''\n",
    "pd.qcut(sr, 3, labels=False) # Display only numbers."
   ]
  },
  {
   "cell_type": "code",
   "execution_count": 7,
   "metadata": {},
   "outputs": [],
   "source": [
    "'''\n",
    "--------------------------------------------------------------------------------------------------\n",
    "If retbins = True, boundary values can be acquired separately.\n",
    "-------------------------------------------------------------------------------------------------\n",
    "'''\n",
    "sr_cut, bins = pd.qcut(sr, 3, retbins=True)"
   ]
  },
  {
   "cell_type": "code",
   "execution_count": 8,
   "metadata": {},
   "outputs": [
    {
     "data": {
      "text/plain": [
       "0    (0.999, 3.667]\n",
       "1     (8.333, 12.0]\n",
       "2    (3.667, 8.333]\n",
       "3    (0.999, 3.667]\n",
       "4     (8.333, 12.0]\n",
       "5    (0.999, 3.667]\n",
       "6    (3.667, 8.333]\n",
       "7     (8.333, 12.0]\n",
       "8    (3.667, 8.333]\n",
       "dtype: category\n",
       "Categories (3, interval[float64]): [(0.999, 3.667] < (3.667, 8.333] < (8.333, 12.0]]"
      ]
     },
     "execution_count": 8,
     "metadata": {},
     "output_type": "execute_result"
    }
   ],
   "source": [
    "sr_cut"
   ]
  },
  {
   "cell_type": "code",
   "execution_count": 9,
   "metadata": {},
   "outputs": [
    {
     "data": {
      "text/plain": [
       "array([ 1.        ,  3.66666667,  8.33333333, 12.        ])"
      ]
     },
     "execution_count": 9,
     "metadata": {},
     "output_type": "execute_result"
    }
   ],
   "source": [
    "bins"
   ]
  },
  {
   "cell_type": "code",
   "execution_count": 10,
   "metadata": {},
   "outputs": [
    {
     "data": {
      "text/plain": [
       "0     (0.9, 3.7]\n",
       "1    (8.3, 12.0]\n",
       "2     (3.7, 8.3]\n",
       "3     (0.9, 3.7]\n",
       "4    (8.3, 12.0]\n",
       "5     (0.9, 3.7]\n",
       "6     (3.7, 8.3]\n",
       "7    (8.3, 12.0]\n",
       "8     (3.7, 8.3]\n",
       "dtype: category\n",
       "Categories (3, interval[float64]): [(0.9, 3.7] < (3.7, 8.3] < (8.3, 12.0]]"
      ]
     },
     "execution_count": 10,
     "metadata": {},
     "output_type": "execute_result"
    }
   ],
   "source": [
    "'''\n",
    "-------------------------------------------------------------------------------------------------\n",
    "You can specify how many decimal places to consider with the precision argument.\n",
    "-------------------------------------------------------------------------------------------------\n",
    "'''\n",
    "pd.qcut(sr, 3, precision=1) # 小数点以下1桁のみ"
   ]
  },
  {
   "cell_type": "code",
   "execution_count": 11,
   "metadata": {},
   "outputs": [
    {
     "data": {
      "text/plain": [
       "0    (0.9999, 3.6667]\n",
       "1      (8.3333, 12.0]\n",
       "2    (3.6667, 8.3333]\n",
       "3    (0.9999, 3.6667]\n",
       "4      (8.3333, 12.0]\n",
       "5    (0.9999, 3.6667]\n",
       "6    (3.6667, 8.3333]\n",
       "7      (8.3333, 12.0]\n",
       "8    (3.6667, 8.3333]\n",
       "dtype: category\n",
       "Categories (3, interval[float64]): [(0.9999, 3.6667] < (3.6667, 8.3333] < (8.3333, 12.0]]"
      ]
     },
     "execution_count": 11,
     "metadata": {},
     "output_type": "execute_result"
    }
   ],
   "source": [
    "pd.qcut(sr,3,precision=4) # 小数点以下4桁"
   ]
  },
  {
   "cell_type": "code",
   "execution_count": 12,
   "metadata": {},
   "outputs": [],
   "source": [
    "'''\n",
    "--------------------------------------------------------------------------------------------------------\n",
    "cut\n",
    "--------------------------------------------------------------------------------------------------------\n",
    "'''\n",
    "age_list = pd.Series([0,20,32,21,15,40,12,35,32,39,24,58,57,11,52,54,19])"
   ]
  },
  {
   "cell_type": "code",
   "execution_count": 13,
   "metadata": {},
   "outputs": [
    {
     "data": {
      "text/plain": [
       "0      0\n",
       "1     20\n",
       "2     32\n",
       "3     21\n",
       "4     15\n",
       "5     40\n",
       "6     12\n",
       "7     35\n",
       "8     32\n",
       "9     39\n",
       "10    24\n",
       "11    58\n",
       "12    57\n",
       "13    11\n",
       "14    52\n",
       "15    54\n",
       "16    19\n",
       "dtype: int64"
      ]
     },
     "execution_count": 13,
     "metadata": {},
     "output_type": "execute_result"
    }
   ],
   "source": [
    "age_list"
   ]
  },
  {
   "cell_type": "code",
   "execution_count": 14,
   "metadata": {},
   "outputs": [
    {
     "data": {
      "text/plain": [
       "0     (-1, 19]\n",
       "1     (19, 39]\n",
       "2     (19, 39]\n",
       "3     (19, 39]\n",
       "4     (-1, 19]\n",
       "5     (39, 59]\n",
       "6     (-1, 19]\n",
       "7     (19, 39]\n",
       "8     (19, 39]\n",
       "9     (19, 39]\n",
       "10    (19, 39]\n",
       "11    (39, 59]\n",
       "12    (39, 59]\n",
       "13    (-1, 19]\n",
       "14    (39, 59]\n",
       "15    (39, 59]\n",
       "16    (-1, 19]\n",
       "dtype: category\n",
       "Categories (3, interval[int64]): [(-1, 19] < (19, 39] < (39, 59]]"
      ]
     },
     "execution_count": 14,
     "metadata": {},
     "output_type": "execute_result"
    }
   ],
   "source": [
    "pd.cut(age_list, bins=[-1,19,39,59])"
   ]
  },
  {
   "cell_type": "code",
   "execution_count": 15,
   "metadata": {},
   "outputs": [
    {
     "data": {
      "text/plain": [
       "0           young\n",
       "1     young-adult\n",
       "2     young-adult\n",
       "3     young-adult\n",
       "4           young\n",
       "5           adult\n",
       "6           young\n",
       "7     young-adult\n",
       "8     young-adult\n",
       "9     young-adult\n",
       "10    young-adult\n",
       "11          adult\n",
       "12          adult\n",
       "13          young\n",
       "14          adult\n",
       "15          adult\n",
       "16          young\n",
       "dtype: category\n",
       "Categories (3, object): [young < young-adult < adult]"
      ]
     },
     "execution_count": 15,
     "metadata": {},
     "output_type": "execute_result"
    }
   ],
   "source": [
    "'''\n",
    "--------------------------------------------------------------------------------\n",
    "As with the qcut function, you can also specify a label here. Let's label it as 'young', 'young-adult', 'adult'.\n",
    "---------------------------------------------------------------------------------\n",
    "'''\n",
    "pd.cut(age_list,bins=[-1,19,39,59],labels=['young','young-adult','adult'])"
   ]
  },
  {
   "cell_type": "code",
   "execution_count": 16,
   "metadata": {},
   "outputs": [
    {
     "data": {
      "text/plain": [
       "0     0\n",
       "1     1\n",
       "2     1\n",
       "3     1\n",
       "4     0\n",
       "5     2\n",
       "6     0\n",
       "7     1\n",
       "8     1\n",
       "9     1\n",
       "10    1\n",
       "11    2\n",
       "12    2\n",
       "13    0\n",
       "14    2\n",
       "15    2\n",
       "16    0\n",
       "dtype: int64"
      ]
     },
     "execution_count": 16,
     "metadata": {},
     "output_type": "execute_result"
    }
   ],
   "source": [
    "'''\n",
    "---------------------------------------------------------------------------------\n",
    "If you set labels = False, you can see what section is in the bottom.\n",
    "---------------------------------------------------------------------------------\n",
    "'''\n",
    "pd.cut(age_list,bins=[-1,19,39,59],labels=False)"
   ]
  },
  {
   "cell_type": "code",
   "execution_count": 17,
   "metadata": {},
   "outputs": [
    {
     "data": {
      "text/plain": [
       "0     [-1, 19)\n",
       "1     [19, 39)\n",
       "2     [19, 39)\n",
       "3     [19, 39)\n",
       "4     [-1, 19)\n",
       "5     [39, 59)\n",
       "6     [-1, 19)\n",
       "7     [19, 39)\n",
       "8     [19, 39)\n",
       "9     [39, 59)\n",
       "10    [19, 39)\n",
       "11    [39, 59)\n",
       "12    [39, 59)\n",
       "13    [-1, 19)\n",
       "14    [39, 59)\n",
       "15    [39, 59)\n",
       "16    [19, 39)\n",
       "dtype: category\n",
       "Categories (3, interval[int64]): [[-1, 19) < [19, 39) < [39, 59)]"
      ]
     },
     "execution_count": 17,
     "metadata": {},
     "output_type": "execute_result"
    }
   ],
   "source": [
    "'''\n",
    "------------------------------------------------------------------------------------------\n",
    "Change the direction of the open section of the region.\n",
    "\n",
    "The area specified when dividing the data is a half-open section, \n",
    "the right section is closed (including the boundary as an area), \n",
    "and the left section is open (not including the boundary as an area). .\n",
    "\n",
    "If you want to reverse this, specify right = False (right = True by default).\n",
    "----------------------------------------------------------------------------------------\n",
    "'''\n",
    "pd.cut(age_list,bins=[-1,19,39,59],right=False) # right=Falseにする"
   ]
  },
  {
   "cell_type": "code",
   "execution_count": 18,
   "metadata": {},
   "outputs": [
    {
     "data": {
      "text/plain": [
       "[19, 39)    7\n",
       "[39, 59)    6\n",
       "[-1, 19)    4\n",
       "dtype: int64"
      ]
     },
     "execution_count": 18,
     "metadata": {},
     "output_type": "execute_result"
    }
   ],
   "source": [
    "pd.cut(age_list,bins=[-1,19,39,59],right=False).value_counts() # 人数の内訳を比較"
   ]
  },
  {
   "cell_type": "code",
   "execution_count": 19,
   "metadata": {},
   "outputs": [
    {
     "data": {
      "text/plain": [
       "(19, 39]    7\n",
       "(39, 59]    5\n",
       "(-1, 19]    5\n",
       "dtype: int64"
      ]
     },
     "execution_count": 19,
     "metadata": {},
     "output_type": "execute_result"
    }
   ],
   "source": [
    "pd.cut(age_list,bins=[-1,19,39,59],right=True).value_counts() # 人数の内訳を比較"
   ]
  },
  {
   "cell_type": "code",
   "execution_count": 21,
   "metadata": {},
   "outputs": [
    {
     "data": {
      "text/plain": [
       "[20, 40)    7\n",
       "[40, 60)    5\n",
       "[0, 20)     5\n",
       "dtype: int64"
      ]
     },
     "execution_count": 21,
     "metadata": {},
     "output_type": "execute_result"
    }
   ],
   "source": [
    "'''\n",
    "----------------------------------------------------------------------------------------------\n",
    "In this way, you can see that the result is different from the previous one because the way of setting the section was changed. \n",
    "In this case, it is necessary to change the way of specifying the interval with bins. \n",
    "Next, specify the value so that the minimum value for each interval becomes the boundary value.\n",
    "----------------------------------------------------------------------------------------------\n",
    "'''\n",
    "bins = [0,20,40,60]\n",
    "pd.cut(age_list,bins=bins,right=False).value_counts()"
   ]
  },
  {
   "cell_type": "code",
   "execution_count": 22,
   "metadata": {},
   "outputs": [],
   "source": [
    "'''\n",
    "------------------------------------------------------------------------------------------------\n",
    "Grouping along the divided area\n",
    "--------------------------------------------------------------------------------------------------\n",
    "'''\n",
    "import numpy as np"
   ]
  },
  {
   "cell_type": "code",
   "execution_count": 26,
   "metadata": {},
   "outputs": [],
   "source": [
    "score_list = np.random.randint(0,100,size=17) # 整数の乱数を17個生成"
   ]
  },
  {
   "cell_type": "code",
   "execution_count": 27,
   "metadata": {},
   "outputs": [
    {
     "data": {
      "text/plain": [
       "array([72, 33, 31, 87, 65, 72,  6, 44, 24, 70,  2, 62, 40, 88, 26, 57, 20])"
      ]
     },
     "execution_count": 27,
     "metadata": {},
     "output_type": "execute_result"
    }
   ],
   "source": [
    "score_list"
   ]
  },
  {
   "cell_type": "code",
   "execution_count": 28,
   "metadata": {},
   "outputs": [],
   "source": [
    "df = pd.DataFrame({'age':age_list,'score':score_list})"
   ]
  },
  {
   "cell_type": "code",
   "execution_count": 29,
   "metadata": {},
   "outputs": [
    {
     "data": {
      "text/html": [
       "<div>\n",
       "<style scoped>\n",
       "    .dataframe tbody tr th:only-of-type {\n",
       "        vertical-align: middle;\n",
       "    }\n",
       "\n",
       "    .dataframe tbody tr th {\n",
       "        vertical-align: top;\n",
       "    }\n",
       "\n",
       "    .dataframe thead th {\n",
       "        text-align: right;\n",
       "    }\n",
       "</style>\n",
       "<table border=\"1\" class=\"dataframe\">\n",
       "  <thead>\n",
       "    <tr style=\"text-align: right;\">\n",
       "      <th></th>\n",
       "      <th>age</th>\n",
       "      <th>score</th>\n",
       "    </tr>\n",
       "  </thead>\n",
       "  <tbody>\n",
       "    <tr>\n",
       "      <th>0</th>\n",
       "      <td>0</td>\n",
       "      <td>72</td>\n",
       "    </tr>\n",
       "    <tr>\n",
       "      <th>1</th>\n",
       "      <td>20</td>\n",
       "      <td>33</td>\n",
       "    </tr>\n",
       "    <tr>\n",
       "      <th>2</th>\n",
       "      <td>32</td>\n",
       "      <td>31</td>\n",
       "    </tr>\n",
       "    <tr>\n",
       "      <th>3</th>\n",
       "      <td>21</td>\n",
       "      <td>87</td>\n",
       "    </tr>\n",
       "    <tr>\n",
       "      <th>4</th>\n",
       "      <td>15</td>\n",
       "      <td>65</td>\n",
       "    </tr>\n",
       "    <tr>\n",
       "      <th>5</th>\n",
       "      <td>40</td>\n",
       "      <td>72</td>\n",
       "    </tr>\n",
       "    <tr>\n",
       "      <th>6</th>\n",
       "      <td>12</td>\n",
       "      <td>6</td>\n",
       "    </tr>\n",
       "    <tr>\n",
       "      <th>7</th>\n",
       "      <td>35</td>\n",
       "      <td>44</td>\n",
       "    </tr>\n",
       "    <tr>\n",
       "      <th>8</th>\n",
       "      <td>32</td>\n",
       "      <td>24</td>\n",
       "    </tr>\n",
       "    <tr>\n",
       "      <th>9</th>\n",
       "      <td>39</td>\n",
       "      <td>70</td>\n",
       "    </tr>\n",
       "    <tr>\n",
       "      <th>10</th>\n",
       "      <td>24</td>\n",
       "      <td>2</td>\n",
       "    </tr>\n",
       "    <tr>\n",
       "      <th>11</th>\n",
       "      <td>58</td>\n",
       "      <td>62</td>\n",
       "    </tr>\n",
       "    <tr>\n",
       "      <th>12</th>\n",
       "      <td>57</td>\n",
       "      <td>40</td>\n",
       "    </tr>\n",
       "    <tr>\n",
       "      <th>13</th>\n",
       "      <td>11</td>\n",
       "      <td>88</td>\n",
       "    </tr>\n",
       "    <tr>\n",
       "      <th>14</th>\n",
       "      <td>52</td>\n",
       "      <td>26</td>\n",
       "    </tr>\n",
       "    <tr>\n",
       "      <th>15</th>\n",
       "      <td>54</td>\n",
       "      <td>57</td>\n",
       "    </tr>\n",
       "    <tr>\n",
       "      <th>16</th>\n",
       "      <td>19</td>\n",
       "      <td>20</td>\n",
       "    </tr>\n",
       "  </tbody>\n",
       "</table>\n",
       "</div>"
      ],
      "text/plain": [
       "    age  score\n",
       "0     0     72\n",
       "1    20     33\n",
       "2    32     31\n",
       "3    21     87\n",
       "4    15     65\n",
       "5    40     72\n",
       "6    12      6\n",
       "7    35     44\n",
       "8    32     24\n",
       "9    39     70\n",
       "10   24      2\n",
       "11   58     62\n",
       "12   57     40\n",
       "13   11     88\n",
       "14   52     26\n",
       "15   54     57\n",
       "16   19     20"
      ]
     },
     "execution_count": 29,
     "metadata": {},
     "output_type": "execute_result"
    }
   ],
   "source": [
    "df"
   ]
  },
  {
   "cell_type": "code",
   "execution_count": 30,
   "metadata": {},
   "outputs": [],
   "source": [
    "cut = pd.qcut(df['age'], 4)"
   ]
  },
  {
   "cell_type": "code",
   "execution_count": 31,
   "metadata": {},
   "outputs": [
    {
     "data": {
      "text/html": [
       "<div>\n",
       "<style scoped>\n",
       "    .dataframe tbody tr th:only-of-type {\n",
       "        vertical-align: middle;\n",
       "    }\n",
       "\n",
       "    .dataframe tbody tr th {\n",
       "        vertical-align: top;\n",
       "    }\n",
       "\n",
       "    .dataframe thead th {\n",
       "        text-align: right;\n",
       "    }\n",
       "</style>\n",
       "<table border=\"1\" class=\"dataframe\">\n",
       "  <thead>\n",
       "    <tr style=\"text-align: right;\">\n",
       "      <th></th>\n",
       "      <th>age</th>\n",
       "      <th>score</th>\n",
       "    </tr>\n",
       "    <tr>\n",
       "      <th>age</th>\n",
       "      <th></th>\n",
       "      <th></th>\n",
       "    </tr>\n",
       "  </thead>\n",
       "  <tbody>\n",
       "    <tr>\n",
       "      <th>(-0.001, 19.0]</th>\n",
       "      <td>11.40</td>\n",
       "      <td>50.20</td>\n",
       "    </tr>\n",
       "    <tr>\n",
       "      <th>(19.0, 32.0]</th>\n",
       "      <td>25.80</td>\n",
       "      <td>35.40</td>\n",
       "    </tr>\n",
       "    <tr>\n",
       "      <th>(32.0, 40.0]</th>\n",
       "      <td>38.00</td>\n",
       "      <td>62.00</td>\n",
       "    </tr>\n",
       "    <tr>\n",
       "      <th>(40.0, 58.0]</th>\n",
       "      <td>55.25</td>\n",
       "      <td>46.25</td>\n",
       "    </tr>\n",
       "  </tbody>\n",
       "</table>\n",
       "</div>"
      ],
      "text/plain": [
       "                  age  score\n",
       "age                         \n",
       "(-0.001, 19.0]  11.40  50.20\n",
       "(19.0, 32.0]    25.80  35.40\n",
       "(32.0, 40.0]    38.00  62.00\n",
       "(40.0, 58.0]    55.25  46.25"
      ]
     },
     "execution_count": 31,
     "metadata": {},
     "output_type": "execute_result"
    }
   ],
   "source": [
    "df.groupby(cut).mean() # 分割した領域ごとの平均を求める"
   ]
  },
  {
   "cell_type": "code",
   "execution_count": 36,
   "metadata": {},
   "outputs": [],
   "source": [
    "'''\n",
    "------------------------------------------------------------\n",
    "You can do the same with the cut function.\n",
    "------------------------------------------------------------\n",
    "'''\n",
    "cut = pd.cut(df['age'],bins=[-1,19,31,39,59], labels=['low', 'middle-low', 'middle-high', 'high'])"
   ]
  },
  {
   "cell_type": "code",
   "execution_count": 37,
   "metadata": {},
   "outputs": [
    {
     "data": {
      "text/html": [
       "<div>\n",
       "<style scoped>\n",
       "    .dataframe tbody tr th:only-of-type {\n",
       "        vertical-align: middle;\n",
       "    }\n",
       "\n",
       "    .dataframe tbody tr th {\n",
       "        vertical-align: top;\n",
       "    }\n",
       "\n",
       "    .dataframe thead th {\n",
       "        text-align: right;\n",
       "    }\n",
       "</style>\n",
       "<table border=\"1\" class=\"dataframe\">\n",
       "  <thead>\n",
       "    <tr style=\"text-align: right;\">\n",
       "      <th></th>\n",
       "      <th>age</th>\n",
       "      <th>score</th>\n",
       "    </tr>\n",
       "    <tr>\n",
       "      <th>age</th>\n",
       "      <th></th>\n",
       "      <th></th>\n",
       "    </tr>\n",
       "  </thead>\n",
       "  <tbody>\n",
       "    <tr>\n",
       "      <th>low</th>\n",
       "      <td>11.400000</td>\n",
       "      <td>50.200000</td>\n",
       "    </tr>\n",
       "    <tr>\n",
       "      <th>middle-low</th>\n",
       "      <td>21.666667</td>\n",
       "      <td>40.666667</td>\n",
       "    </tr>\n",
       "    <tr>\n",
       "      <th>middle-high</th>\n",
       "      <td>34.500000</td>\n",
       "      <td>42.250000</td>\n",
       "    </tr>\n",
       "    <tr>\n",
       "      <th>high</th>\n",
       "      <td>52.200000</td>\n",
       "      <td>51.400000</td>\n",
       "    </tr>\n",
       "  </tbody>\n",
       "</table>\n",
       "</div>"
      ],
      "text/plain": [
       "                   age      score\n",
       "age                              \n",
       "low          11.400000  50.200000\n",
       "middle-low   21.666667  40.666667\n",
       "middle-high  34.500000  42.250000\n",
       "high         52.200000  51.400000"
      ]
     },
     "execution_count": 37,
     "metadata": {},
     "output_type": "execute_result"
    }
   ],
   "source": [
    "df.groupby(cut).mean()"
   ]
  },
  {
   "cell_type": "code",
   "execution_count": null,
   "metadata": {},
   "outputs": [],
   "source": []
  }
 ],
 "metadata": {
  "kernelspec": {
   "display_name": "Python 3",
   "language": "python",
   "name": "python3"
  },
  "language_info": {
   "codemirror_mode": {
    "name": "ipython",
    "version": 3
   },
   "file_extension": ".py",
   "mimetype": "text/x-python",
   "name": "python",
   "nbconvert_exporter": "python",
   "pygments_lexer": "ipython3",
   "version": "3.7.4"
  }
 },
 "nbformat": 4,
 "nbformat_minor": 4
}
